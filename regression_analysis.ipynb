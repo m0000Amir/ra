{
 "cells": [
  {
   "cell_type": "markdown",
   "metadata": {},
   "source": [
    "## ПОСТРОЕНИЕ РЕГРЕССИОННОЙ МОДЕЛИ, ОПИСЫВАЮЩАЯ МЕЖКОНЦЕВУЮ ЗАДЕРЖКУ В СЕТИ С ЛИНЕЙНОЙ ТОПОЛОГИЕЙ\n",
    "\n",
    "Имеются данные иммитационной модели с фиксированными значениями межконцевых задержек\n",
    "\n",
    "\\textbf{Цель:}  построить \\textbf{регрессионной модель межконцевой задержки} в тандеме, имеющие следующие предикторы:\n",
    "\n",
    "- RHOS - коэффициент загрузки ($\\rho$);\n",
    "- NUM_STATIONS -  количество станций в тандеме;\n",
    "- NUM_PACKETS - число сгенерированных пакетов;\n",
    "- BITRATE -  битовая скорость передачи пакета станциями;\n",
    "- PKTSIZE - средний размер пакетов в битах.\n",
    "\n",
    "\\textbf{Необходимо:} провести оценку данной модели, а также сравнить ее с аналитической моделью межконцевой задержки для СМО $M/M/1 \\rightarrow \\bullet/M/1$."
   ]
  },
  {
   "cell_type": "code",
   "execution_count": 1,
   "metadata": {},
   "outputs": [],
   "source": [
    "%matplotlib inline\n",
    "import math\n",
    "import pandas as pd\n",
    "import numpy as np\n",
    "import matplotlib.pyplot as plt\n",
    "from sklearn.metrics import r2_score"
   ]
  },
  {
   "cell_type": "markdown",
   "metadata": {},
   "source": [
    "## ТАБЛИЦА ТРЕНИРОЧНЫХ ДАННЫХ\n",
    "\n",
    "Для тренировки будем использовать данные симуляции, полученные с фиксации размеров данных (\\textbf{sim_type = 'fix'})"
   ]
  },
  {
   "cell_type": "code",
   "execution_count": 3,
   "metadata": {},
   "outputs": [
    {
     "data": {
      "text/html": [
       "<div>\n",
       "<style scoped>\n",
       "    .dataframe tbody tr th:only-of-type {\n",
       "        vertical-align: middle;\n",
       "    }\n",
       "\n",
       "    .dataframe tbody tr th {\n",
       "        vertical-align: top;\n",
       "    }\n",
       "\n",
       "    .dataframe thead th {\n",
       "        text-align: right;\n",
       "    }\n",
       "</style>\n",
       "<table border=\"1\" class=\"dataframe\">\n",
       "  <thead>\n",
       "    <tr style=\"text-align: right;\">\n",
       "      <th></th>\n",
       "      <th>sim_type</th>\n",
       "      <th>RHOS</th>\n",
       "      <th>NUM_STATIONS</th>\n",
       "      <th>NUM_PACKETS</th>\n",
       "      <th>BITRATE</th>\n",
       "      <th>PKTSIZE</th>\n",
       "      <th>delay</th>\n",
       "      <th>qsize</th>\n",
       "      <th>ssize</th>\n",
       "      <th>busy</th>\n",
       "      <th>fingerprint</th>\n",
       "    </tr>\n",
       "  </thead>\n",
       "  <tbody>\n",
       "    <tr>\n",
       "      <th>0</th>\n",
       "      <td>fix</td>\n",
       "      <td>0.1</td>\n",
       "      <td>5</td>\n",
       "      <td>2000</td>\n",
       "      <td>1000</td>\n",
       "      <td>500</td>\n",
       "      <td>3.153541</td>\n",
       "      <td>0.045621</td>\n",
       "      <td>0.146906</td>\n",
       "      <td>0.101352</td>\n",
       "      <td>9222.374776</td>\n",
       "    </tr>\n",
       "    <tr>\n",
       "      <th>1</th>\n",
       "      <td>fix</td>\n",
       "      <td>0.1</td>\n",
       "      <td>5</td>\n",
       "      <td>2000</td>\n",
       "      <td>1000</td>\n",
       "      <td>1000</td>\n",
       "      <td>6.484503</td>\n",
       "      <td>0.044956</td>\n",
       "      <td>0.145966</td>\n",
       "      <td>0.101117</td>\n",
       "      <td>156.888568</td>\n",
       "    </tr>\n",
       "    <tr>\n",
       "      <th>2</th>\n",
       "      <td>fix</td>\n",
       "      <td>0.1</td>\n",
       "      <td>5</td>\n",
       "      <td>2000</td>\n",
       "      <td>1000</td>\n",
       "      <td>2000</td>\n",
       "      <td>12.434021</td>\n",
       "      <td>0.038444</td>\n",
       "      <td>0.132845</td>\n",
       "      <td>0.094655</td>\n",
       "      <td>1144.404326</td>\n",
       "    </tr>\n",
       "    <tr>\n",
       "      <th>3</th>\n",
       "      <td>fix</td>\n",
       "      <td>0.1</td>\n",
       "      <td>5</td>\n",
       "      <td>2000</td>\n",
       "      <td>1500</td>\n",
       "      <td>500</td>\n",
       "      <td>2.152927</td>\n",
       "      <td>0.042999</td>\n",
       "      <td>0.143870</td>\n",
       "      <td>0.100974</td>\n",
       "      <td>8404.431398</td>\n",
       "    </tr>\n",
       "    <tr>\n",
       "      <th>4</th>\n",
       "      <td>fix</td>\n",
       "      <td>0.1</td>\n",
       "      <td>5</td>\n",
       "      <td>2000</td>\n",
       "      <td>1500</td>\n",
       "      <td>1000</td>\n",
       "      <td>4.175801</td>\n",
       "      <td>0.044722</td>\n",
       "      <td>0.147766</td>\n",
       "      <td>0.103176</td>\n",
       "      <td>7663.373303</td>\n",
       "    </tr>\n",
       "    <tr>\n",
       "      <th>...</th>\n",
       "      <td>...</td>\n",
       "      <td>...</td>\n",
       "      <td>...</td>\n",
       "      <td>...</td>\n",
       "      <td>...</td>\n",
       "      <td>...</td>\n",
       "      <td>...</td>\n",
       "      <td>...</td>\n",
       "      <td>...</td>\n",
       "      <td>...</td>\n",
       "      <td>...</td>\n",
       "    </tr>\n",
       "    <tr>\n",
       "      <th>3883</th>\n",
       "      <td>var</td>\n",
       "      <td>0.9</td>\n",
       "      <td>20</td>\n",
       "      <td>20000</td>\n",
       "      <td>1500</td>\n",
       "      <td>1000</td>\n",
       "      <td>137.073985</td>\n",
       "      <td>7.706763</td>\n",
       "      <td>8.590372</td>\n",
       "      <td>0.889072</td>\n",
       "      <td>2175.846141</td>\n",
       "    </tr>\n",
       "    <tr>\n",
       "      <th>3884</th>\n",
       "      <td>var</td>\n",
       "      <td>0.9</td>\n",
       "      <td>20</td>\n",
       "      <td>20000</td>\n",
       "      <td>1500</td>\n",
       "      <td>2000</td>\n",
       "      <td>262.331304</td>\n",
       "      <td>8.498980</td>\n",
       "      <td>9.395109</td>\n",
       "      <td>0.902368</td>\n",
       "      <td>1319.182265</td>\n",
       "    </tr>\n",
       "    <tr>\n",
       "      <th>3885</th>\n",
       "      <td>var</td>\n",
       "      <td>0.9</td>\n",
       "      <td>20</td>\n",
       "      <td>20000</td>\n",
       "      <td>2000</td>\n",
       "      <td>500</td>\n",
       "      <td>53.294198</td>\n",
       "      <td>7.536773</td>\n",
       "      <td>8.418871</td>\n",
       "      <td>0.895265</td>\n",
       "      <td>8203.066771</td>\n",
       "    </tr>\n",
       "    <tr>\n",
       "      <th>3886</th>\n",
       "      <td>var</td>\n",
       "      <td>0.9</td>\n",
       "      <td>20</td>\n",
       "      <td>20000</td>\n",
       "      <td>2000</td>\n",
       "      <td>1000</td>\n",
       "      <td>92.352807</td>\n",
       "      <td>7.942748</td>\n",
       "      <td>8.812087</td>\n",
       "      <td>0.882098</td>\n",
       "      <td>2327.322851</td>\n",
       "    </tr>\n",
       "    <tr>\n",
       "      <th>3887</th>\n",
       "      <td>var</td>\n",
       "      <td>0.9</td>\n",
       "      <td>20</td>\n",
       "      <td>20000</td>\n",
       "      <td>2000</td>\n",
       "      <td>2000</td>\n",
       "      <td>165.472167</td>\n",
       "      <td>6.950867</td>\n",
       "      <td>7.822940</td>\n",
       "      <td>0.885158</td>\n",
       "      <td>9957.835281</td>\n",
       "    </tr>\n",
       "  </tbody>\n",
       "</table>\n",
       "<p>3888 rows × 11 columns</p>\n",
       "</div>"
      ],
      "text/plain": [
       "     sim_type  RHOS  NUM_STATIONS  NUM_PACKETS  BITRATE  PKTSIZE       delay  \\\n",
       "0         fix   0.1             5         2000     1000      500    3.153541   \n",
       "1         fix   0.1             5         2000     1000     1000    6.484503   \n",
       "2         fix   0.1             5         2000     1000     2000   12.434021   \n",
       "3         fix   0.1             5         2000     1500      500    2.152927   \n",
       "4         fix   0.1             5         2000     1500     1000    4.175801   \n",
       "...       ...   ...           ...          ...      ...      ...         ...   \n",
       "3883      var   0.9            20        20000     1500     1000  137.073985   \n",
       "3884      var   0.9            20        20000     1500     2000  262.331304   \n",
       "3885      var   0.9            20        20000     2000      500   53.294198   \n",
       "3886      var   0.9            20        20000     2000     1000   92.352807   \n",
       "3887      var   0.9            20        20000     2000     2000  165.472167   \n",
       "\n",
       "         qsize     ssize      busy  fingerprint  \n",
       "0     0.045621  0.146906  0.101352  9222.374776  \n",
       "1     0.044956  0.145966  0.101117   156.888568  \n",
       "2     0.038444  0.132845  0.094655  1144.404326  \n",
       "3     0.042999  0.143870  0.100974  8404.431398  \n",
       "4     0.044722  0.147766  0.103176  7663.373303  \n",
       "...        ...       ...       ...          ...  \n",
       "3883  7.706763  8.590372  0.889072  2175.846141  \n",
       "3884  8.498980  9.395109  0.902368  1319.182265  \n",
       "3885  7.536773  8.418871  0.895265  8203.066771  \n",
       "3886  7.942748  8.812087  0.882098  2327.322851  \n",
       "3887  6.950867  7.822940  0.885158  9957.835281  \n",
       "\n",
       "[3888 rows x 11 columns]"
      ]
     },
     "execution_count": 3,
     "metadata": {},
     "output_type": "execute_result"
    }
   ],
   "source": [
    "table = pd.read_csv('table.csv', index_col=0)\n",
    "table"
   ]
  },
  {
   "cell_type": "markdown",
   "metadata": {},
   "source": [
    "## ТАБЛИЦА ТЕСТОВЫХ ДАННЫХ\n",
    "\n",
    "Полученные оценочные значения времени задержки будем проверять со значениями симуляции при фиксированном и случайном размере кадров.\n",
    "\n",
    "В нашем случае значения при фиксированном размере данных (\\textbf{sim_type = 'fix'}) принимаем за истинные."
   ]
  },
  {
   "cell_type": "code",
   "execution_count": 4,
   "metadata": {},
   "outputs": [
    {
     "data": {
      "text/html": [
       "<div>\n",
       "<style scoped>\n",
       "    .dataframe tbody tr th:only-of-type {\n",
       "        vertical-align: middle;\n",
       "    }\n",
       "\n",
       "    .dataframe tbody tr th {\n",
       "        vertical-align: top;\n",
       "    }\n",
       "\n",
       "    .dataframe thead th {\n",
       "        text-align: right;\n",
       "    }\n",
       "</style>\n",
       "<table border=\"1\" class=\"dataframe\">\n",
       "  <thead>\n",
       "    <tr style=\"text-align: right;\">\n",
       "      <th></th>\n",
       "      <th>sim_type</th>\n",
       "      <th>RHOS</th>\n",
       "      <th>NUM_STATIONS</th>\n",
       "      <th>NUM_PACKETS</th>\n",
       "      <th>BITRATE</th>\n",
       "      <th>PKTSIZE</th>\n",
       "      <th>delay</th>\n",
       "      <th>qsize</th>\n",
       "      <th>ssize</th>\n",
       "      <th>busy</th>\n",
       "      <th>fingerprint</th>\n",
       "    </tr>\n",
       "  </thead>\n",
       "  <tbody>\n",
       "    <tr>\n",
       "      <th>0</th>\n",
       "      <td>fix</td>\n",
       "      <td>0.1</td>\n",
       "      <td>20.0</td>\n",
       "      <td>2000.0</td>\n",
       "      <td>1000.0</td>\n",
       "      <td>500.0</td>\n",
       "      <td>17.397151</td>\n",
       "      <td>0.119763</td>\n",
       "      <td>0.216866</td>\n",
       "      <td>0.097660</td>\n",
       "      <td>4437.177088</td>\n",
       "    </tr>\n",
       "    <tr>\n",
       "      <th>1</th>\n",
       "      <td>fix</td>\n",
       "      <td>0.2</td>\n",
       "      <td>20.0</td>\n",
       "      <td>2000.0</td>\n",
       "      <td>1000.0</td>\n",
       "      <td>500.0</td>\n",
       "      <td>23.128794</td>\n",
       "      <td>0.409463</td>\n",
       "      <td>0.601877</td>\n",
       "      <td>0.192436</td>\n",
       "      <td>8098.567695</td>\n",
       "    </tr>\n",
       "    <tr>\n",
       "      <th>2</th>\n",
       "      <td>fix</td>\n",
       "      <td>0.3</td>\n",
       "      <td>20.0</td>\n",
       "      <td>2000.0</td>\n",
       "      <td>1000.0</td>\n",
       "      <td>500.0</td>\n",
       "      <td>28.092917</td>\n",
       "      <td>0.774783</td>\n",
       "      <td>1.072961</td>\n",
       "      <td>0.300087</td>\n",
       "      <td>480.461492</td>\n",
       "    </tr>\n",
       "    <tr>\n",
       "      <th>3</th>\n",
       "      <td>fix</td>\n",
       "      <td>0.4</td>\n",
       "      <td>20.0</td>\n",
       "      <td>2000.0</td>\n",
       "      <td>1000.0</td>\n",
       "      <td>500.0</td>\n",
       "      <td>27.768322</td>\n",
       "      <td>0.986804</td>\n",
       "      <td>1.368373</td>\n",
       "      <td>0.383986</td>\n",
       "      <td>563.601052</td>\n",
       "    </tr>\n",
       "    <tr>\n",
       "      <th>4</th>\n",
       "      <td>fix</td>\n",
       "      <td>0.5</td>\n",
       "      <td>20.0</td>\n",
       "      <td>2000.0</td>\n",
       "      <td>1000.0</td>\n",
       "      <td>500.0</td>\n",
       "      <td>33.533820</td>\n",
       "      <td>1.549161</td>\n",
       "      <td>2.012156</td>\n",
       "      <td>0.475600</td>\n",
       "      <td>9720.394169</td>\n",
       "    </tr>\n",
       "    <tr>\n",
       "      <th>5</th>\n",
       "      <td>fix</td>\n",
       "      <td>0.6</td>\n",
       "      <td>20.0</td>\n",
       "      <td>2000.0</td>\n",
       "      <td>1000.0</td>\n",
       "      <td>500.0</td>\n",
       "      <td>40.786132</td>\n",
       "      <td>2.455518</td>\n",
       "      <td>3.059440</td>\n",
       "      <td>0.604508</td>\n",
       "      <td>6339.319941</td>\n",
       "    </tr>\n",
       "    <tr>\n",
       "      <th>6</th>\n",
       "      <td>fix</td>\n",
       "      <td>0.7</td>\n",
       "      <td>20.0</td>\n",
       "      <td>2000.0</td>\n",
       "      <td>1000.0</td>\n",
       "      <td>500.0</td>\n",
       "      <td>42.424810</td>\n",
       "      <td>2.716278</td>\n",
       "      <td>3.381217</td>\n",
       "      <td>0.665765</td>\n",
       "      <td>2391.173181</td>\n",
       "    </tr>\n",
       "    <tr>\n",
       "      <th>7</th>\n",
       "      <td>fix</td>\n",
       "      <td>0.8</td>\n",
       "      <td>20.0</td>\n",
       "      <td>2000.0</td>\n",
       "      <td>1000.0</td>\n",
       "      <td>500.0</td>\n",
       "      <td>52.362437</td>\n",
       "      <td>3.825053</td>\n",
       "      <td>4.627239</td>\n",
       "      <td>0.803784</td>\n",
       "      <td>2405.882113</td>\n",
       "    </tr>\n",
       "    <tr>\n",
       "      <th>8</th>\n",
       "      <td>fix</td>\n",
       "      <td>0.9</td>\n",
       "      <td>20.0</td>\n",
       "      <td>2000.0</td>\n",
       "      <td>1000.0</td>\n",
       "      <td>500.0</td>\n",
       "      <td>66.122725</td>\n",
       "      <td>5.182247</td>\n",
       "      <td>6.099593</td>\n",
       "      <td>0.919342</td>\n",
       "      <td>1166.875383</td>\n",
       "    </tr>\n",
       "    <tr>\n",
       "      <th>9</th>\n",
       "      <td>var</td>\n",
       "      <td>0.1</td>\n",
       "      <td>20.0</td>\n",
       "      <td>2000.0</td>\n",
       "      <td>1000.0</td>\n",
       "      <td>500.0</td>\n",
       "      <td>11.221303</td>\n",
       "      <td>0.012431</td>\n",
       "      <td>0.115230</td>\n",
       "      <td>0.102993</td>\n",
       "      <td>9042.972289</td>\n",
       "    </tr>\n",
       "    <tr>\n",
       "      <th>10</th>\n",
       "      <td>var</td>\n",
       "      <td>0.2</td>\n",
       "      <td>20.0</td>\n",
       "      <td>2000.0</td>\n",
       "      <td>1000.0</td>\n",
       "      <td>500.0</td>\n",
       "      <td>12.433607</td>\n",
       "      <td>0.059382</td>\n",
       "      <td>0.266769</td>\n",
       "      <td>0.208472</td>\n",
       "      <td>2478.160998</td>\n",
       "    </tr>\n",
       "    <tr>\n",
       "      <th>11</th>\n",
       "      <td>var</td>\n",
       "      <td>0.3</td>\n",
       "      <td>20.0</td>\n",
       "      <td>2000.0</td>\n",
       "      <td>1000.0</td>\n",
       "      <td>500.0</td>\n",
       "      <td>13.928502</td>\n",
       "      <td>0.126934</td>\n",
       "      <td>0.427658</td>\n",
       "      <td>0.300980</td>\n",
       "      <td>7882.641336</td>\n",
       "    </tr>\n",
       "    <tr>\n",
       "      <th>12</th>\n",
       "      <td>var</td>\n",
       "      <td>0.4</td>\n",
       "      <td>20.0</td>\n",
       "      <td>2000.0</td>\n",
       "      <td>1000.0</td>\n",
       "      <td>500.0</td>\n",
       "      <td>16.281664</td>\n",
       "      <td>0.284125</td>\n",
       "      <td>0.664935</td>\n",
       "      <td>0.382131</td>\n",
       "      <td>2998.189042</td>\n",
       "    </tr>\n",
       "    <tr>\n",
       "      <th>13</th>\n",
       "      <td>var</td>\n",
       "      <td>0.5</td>\n",
       "      <td>20.0</td>\n",
       "      <td>2000.0</td>\n",
       "      <td>1000.0</td>\n",
       "      <td>500.0</td>\n",
       "      <td>20.453333</td>\n",
       "      <td>0.507837</td>\n",
       "      <td>1.004172</td>\n",
       "      <td>0.498610</td>\n",
       "      <td>3204.909129</td>\n",
       "    </tr>\n",
       "    <tr>\n",
       "      <th>14</th>\n",
       "      <td>var</td>\n",
       "      <td>0.6</td>\n",
       "      <td>20.0</td>\n",
       "      <td>2000.0</td>\n",
       "      <td>1000.0</td>\n",
       "      <td>500.0</td>\n",
       "      <td>25.525713</td>\n",
       "      <td>0.982508</td>\n",
       "      <td>1.549991</td>\n",
       "      <td>0.580486</td>\n",
       "      <td>271.460010</td>\n",
       "    </tr>\n",
       "    <tr>\n",
       "      <th>15</th>\n",
       "      <td>var</td>\n",
       "      <td>0.7</td>\n",
       "      <td>20.0</td>\n",
       "      <td>2000.0</td>\n",
       "      <td>1000.0</td>\n",
       "      <td>500.0</td>\n",
       "      <td>29.682421</td>\n",
       "      <td>1.401221</td>\n",
       "      <td>2.060864</td>\n",
       "      <td>0.675223</td>\n",
       "      <td>3676.660867</td>\n",
       "    </tr>\n",
       "    <tr>\n",
       "      <th>16</th>\n",
       "      <td>var</td>\n",
       "      <td>0.8</td>\n",
       "      <td>20.0</td>\n",
       "      <td>2000.0</td>\n",
       "      <td>1000.0</td>\n",
       "      <td>500.0</td>\n",
       "      <td>44.721489</td>\n",
       "      <td>2.683807</td>\n",
       "      <td>3.438517</td>\n",
       "      <td>0.777985</td>\n",
       "      <td>8660.957270</td>\n",
       "    </tr>\n",
       "    <tr>\n",
       "      <th>17</th>\n",
       "      <td>var</td>\n",
       "      <td>0.9</td>\n",
       "      <td>20.0</td>\n",
       "      <td>2000.0</td>\n",
       "      <td>1000.0</td>\n",
       "      <td>500.0</td>\n",
       "      <td>82.222848</td>\n",
       "      <td>4.763649</td>\n",
       "      <td>5.548417</td>\n",
       "      <td>0.841691</td>\n",
       "      <td>1268.126429</td>\n",
       "    </tr>\n",
       "  </tbody>\n",
       "</table>\n",
       "</div>"
      ],
      "text/plain": [
       "   sim_type  RHOS  NUM_STATIONS  NUM_PACKETS  BITRATE  PKTSIZE      delay  \\\n",
       "0       fix   0.1          20.0       2000.0   1000.0    500.0  17.397151   \n",
       "1       fix   0.2          20.0       2000.0   1000.0    500.0  23.128794   \n",
       "2       fix   0.3          20.0       2000.0   1000.0    500.0  28.092917   \n",
       "3       fix   0.4          20.0       2000.0   1000.0    500.0  27.768322   \n",
       "4       fix   0.5          20.0       2000.0   1000.0    500.0  33.533820   \n",
       "5       fix   0.6          20.0       2000.0   1000.0    500.0  40.786132   \n",
       "6       fix   0.7          20.0       2000.0   1000.0    500.0  42.424810   \n",
       "7       fix   0.8          20.0       2000.0   1000.0    500.0  52.362437   \n",
       "8       fix   0.9          20.0       2000.0   1000.0    500.0  66.122725   \n",
       "9       var   0.1          20.0       2000.0   1000.0    500.0  11.221303   \n",
       "10      var   0.2          20.0       2000.0   1000.0    500.0  12.433607   \n",
       "11      var   0.3          20.0       2000.0   1000.0    500.0  13.928502   \n",
       "12      var   0.4          20.0       2000.0   1000.0    500.0  16.281664   \n",
       "13      var   0.5          20.0       2000.0   1000.0    500.0  20.453333   \n",
       "14      var   0.6          20.0       2000.0   1000.0    500.0  25.525713   \n",
       "15      var   0.7          20.0       2000.0   1000.0    500.0  29.682421   \n",
       "16      var   0.8          20.0       2000.0   1000.0    500.0  44.721489   \n",
       "17      var   0.9          20.0       2000.0   1000.0    500.0  82.222848   \n",
       "\n",
       "       qsize     ssize      busy  fingerprint  \n",
       "0   0.119763  0.216866  0.097660  4437.177088  \n",
       "1   0.409463  0.601877  0.192436  8098.567695  \n",
       "2   0.774783  1.072961  0.300087   480.461492  \n",
       "3   0.986804  1.368373  0.383986   563.601052  \n",
       "4   1.549161  2.012156  0.475600  9720.394169  \n",
       "5   2.455518  3.059440  0.604508  6339.319941  \n",
       "6   2.716278  3.381217  0.665765  2391.173181  \n",
       "7   3.825053  4.627239  0.803784  2405.882113  \n",
       "8   5.182247  6.099593  0.919342  1166.875383  \n",
       "9   0.012431  0.115230  0.102993  9042.972289  \n",
       "10  0.059382  0.266769  0.208472  2478.160998  \n",
       "11  0.126934  0.427658  0.300980  7882.641336  \n",
       "12  0.284125  0.664935  0.382131  2998.189042  \n",
       "13  0.507837  1.004172  0.498610  3204.909129  \n",
       "14  0.982508  1.549991  0.580486   271.460010  \n",
       "15  1.401221  2.060864  0.675223  3676.660867  \n",
       "16  2.683807  3.438517  0.777985  8660.957270  \n",
       "17  4.763649  5.548417  0.841691  1268.126429  "
      ]
     },
     "execution_count": 4,
     "metadata": {},
     "output_type": "execute_result"
    }
   ],
   "source": [
    "table_test = pd.read_csv('table_test.csv', index_col=0)\n",
    "table_test"
   ]
  },
  {
   "cell_type": "code",
   "execution_count": 5,
   "metadata": {},
   "outputs": [],
   "source": [
    "fix = table[table.sim_type == 'fix']\n",
    "var = table[table.sim_type == 'var']"
   ]
  },
  {
   "cell_type": "code",
   "execution_count": 6,
   "metadata": {},
   "outputs": [],
   "source": [
    "x_fix = fix.loc[:,'RHOS': 'PKTSIZE'].values\n",
    "y_fix = fix.loc[:,'delay'].values\n",
    "\n",
    "fix_test = table_test[table_test.sim_type == 'fix']\n",
    "var_test = table_test[table_test.sim_type == 'var']"
   ]
  },
  {
   "cell_type": "code",
   "execution_count": 7,
   "metadata": {},
   "outputs": [
    {
     "data": {
      "image/png": "[encoded data removed]",
      "text/plain": [
       "<Figure size 432x288 with 1 Axes>"
      ]
     },
     "metadata": {
      "needs_background": "light"
     },
     "output_type": "display_data"
    }
   ],
   "source": [
    "\n",
    "plt.figure()\n",
    "plt.plot(y_fix, '.r', label='fix')\n",
    "plt.plot(var.loc[:,'delay'].values, '.b', label='var')\n",
    "plt.xlabel('Sample')\n",
    "plt.ylabel('Delay')\n",
    "plt.title('Fixing the frame size')\n",
    "plt.legend()\n",
    "plt.grid()"
   ]
  },
  {
   "cell_type": "code",
   "execution_count": 8,
   "metadata": {},
   "outputs": [],
   "source": [
    "def std(x, y):\n",
    "    \"\"\"Standard deviation between simulation model values and our estimates\"\"\"\n",
    "    return math.sqrt(np.sum((x-y)**2) / (len(x) - 1))"
   ]
  },
  {
   "cell_type": "markdown",
   "metadata": {},
   "source": [
    "## ДЕРЕВО РЕШЕНИЙ"
   ]
  },
  {
   "cell_type": "code",
   "execution_count": 9,
   "metadata": {},
   "outputs": [],
   "source": [
    "from sklearn.tree import DecisionTreeRegressor"
   ]
  },
  {
   "cell_type": "code",
   "execution_count": 10,
   "metadata": {},
   "outputs": [],
   "source": [
    "tree = DecisionTreeRegressor(max_depth=18)\n",
    "tree.fit(x_fix, y_fix);"
   ]
  },
  {
   "cell_type": "code",
   "execution_count": 11,
   "metadata": {},
   "outputs": [],
   "source": [
    "x_fix_test = fix_test.loc[:,'RHOS': 'PKTSIZE'].values\n",
    "tree_y_estimate = tree.predict(x_fix_test)"
   ]
  },
  {
   "cell_type": "code",
   "execution_count": 12,
   "metadata": {},
   "outputs": [
    {
     "data": {
      "image/png": "[encoded data removed]",
      "text/plain": [
       "<Figure size 432x288 with 1 Axes>"
      ]
     },
     "metadata": {
      "needs_background": "light"
     },
     "output_type": "display_data"
    }
   ],
   "source": [
    "from matplotlib import rc\n",
    "plt.figure()\n",
    "plt.plot(fix_test.loc[:,'RHOS'].values, tree_y_estimate, '--or', label='prediction')\n",
    "plt.plot(fix_test.loc[:,'RHOS'].values, fix_test.loc[:,'delay'].values,'-ob', label='fix')\n",
    "plt.plot(var_test.loc[:,'RHOS'].values, var_test.loc[:,'delay'].values,'--og', label='var')\n",
    "plt.xlabel(r'$\\rho$')\n",
    "plt.ylabel('Delay')\n",
    "plt.title('Decision Tree Regressor')\n",
    "plt.legend()\n",
    "plt.grid()"
   ]
  },
  {
   "cell_type": "code",
   "execution_count": 13,
   "metadata": {},
   "outputs": [
    {
     "data": {
      "text/html": [
       "<div>\n",
       "<style scoped>\n",
       "    .dataframe tbody tr th:only-of-type {\n",
       "        vertical-align: middle;\n",
       "    }\n",
       "\n",
       "    .dataframe tbody tr th {\n",
       "        vertical-align: top;\n",
       "    }\n",
       "\n",
       "    .dataframe thead th {\n",
       "        text-align: right;\n",
       "    }\n",
       "</style>\n",
       "<table border=\"1\" class=\"dataframe\">\n",
       "  <thead>\n",
       "    <tr style=\"text-align: right;\">\n",
       "      <th></th>\n",
       "      <th>STD</th>\n",
       "      <th>R</th>\n",
       "      <th>R2</th>\n",
       "    </tr>\n",
       "  </thead>\n",
       "  <tbody>\n",
       "    <tr>\n",
       "      <th>VAR</th>\n",
       "      <td>13.081706</td>\n",
       "      <td>0.946102</td>\n",
       "      <td>0.669517</td>\n",
       "    </tr>\n",
       "    <tr>\n",
       "      <th>PRED</th>\n",
       "      <td>6.911686</td>\n",
       "      <td>0.925434</td>\n",
       "      <td>0.796820</td>\n",
       "    </tr>\n",
       "  </tbody>\n",
       "</table>\n",
       "</div>"
      ],
      "text/plain": [
       "            STD         R        R2\n",
       "VAR   13.081706  0.946102  0.669517\n",
       "PRED   6.911686  0.925434  0.796820"
      ]
     },
     "execution_count": 13,
     "metadata": {},
     "output_type": "execute_result"
    }
   ],
   "source": [
    "# var values\n",
    "var_std = std(var_test.loc[:,'delay'].values, fix_test.loc[:,'delay'].values)\n",
    "var_r = np.corrcoef(var_test.loc[:,'delay'].values, fix_test.loc[:,'delay'].values)\n",
    "var_r2 = r2_score(var_test.loc[:,'delay'].values, fix_test.loc[:,'delay'].values)\n",
    "\n",
    "# prediction values\n",
    "pred_std = std(tree_y_estimate, fix_test.loc[:,'delay'].values)\n",
    "pred_r = np.corrcoef(tree_y_estimate, fix_test.loc[:,'delay'].values)\n",
    "pred_r2 = r2_score(fix_test.loc[:,'delay'].values, tree_y_estimate)\n",
    "\n",
    "data = {'STD':[var_std, pred_std], 'R': [var_r[0,1], pred_r[0,1]], 'R2': [var_r2, pred_r2]}\n",
    "tree_df = pd.DataFrame(data, index=['VAR', 'PRED'])\n",
    "tree_df"
   ]
  },
  {
   "cell_type": "markdown",
   "metadata": {},
   "source": [
    "## Градиентный бустинг"
   ]
  },
  {
   "cell_type": "code",
   "execution_count": 14,
   "metadata": {},
   "outputs": [],
   "source": [
    "from sklearn.ensemble import GradientBoostingRegressor"
   ]
  },
  {
   "cell_type": "code",
   "execution_count": 15,
   "metadata": {},
   "outputs": [],
   "source": [
    "gb = DecisionTreeRegressor(max_depth=18)\n",
    "gb.fit(x_fix, y_fix);"
   ]
  },
  {
   "cell_type": "code",
   "execution_count": 16,
   "metadata": {},
   "outputs": [],
   "source": [
    "x_fix_test = fix_test.loc[:,'RHOS': 'PKTSIZE'].values\n",
    "gb_y_estimate = tree.predict(x_fix_test)"
   ]
  },
  {
   "cell_type": "code",
   "execution_count": 17,
   "metadata": {},
   "outputs": [
    {
     "data": {
      "image/png": "[encoded data removed]",
      "text/plain": [
       "<Figure size 432x288 with 1 Axes>"
      ]
     },
     "metadata": {
      "needs_background": "light"
     },
     "output_type": "display_data"
    }
   ],
   "source": [
    "plt.figure()\n",
    "plt.plot(fix_test.loc[:,'RHOS'].values, gb_y_estimate, '--or', label='prediction')\n",
    "plt.plot(fix_test.loc[:,'RHOS'].values,fix_test.loc[:,'delay'].values,'-ob', label='fix')\n",
    "plt.plot(var_test.loc[:,'RHOS'].values, var_test.loc[:,'delay'].values,'--og', label='var')\n",
    "\n",
    "plt.xlabel(r'$\\rho$')\n",
    "plt.ylabel('Delay')\n",
    "plt.title('Gradient Boosting Regressor')\n",
    "plt.legend()\n",
    "plt.grid()\n"
   ]
  },
  {
   "cell_type": "code",
   "execution_count": 18,
   "metadata": {},
   "outputs": [
    {
     "data": {
      "text/html": [
       "<div>\n",
       "<style scoped>\n",
       "    .dataframe tbody tr th:only-of-type {\n",
       "        vertical-align: middle;\n",
       "    }\n",
       "\n",
       "    .dataframe tbody tr th {\n",
       "        vertical-align: top;\n",
       "    }\n",
       "\n",
       "    .dataframe thead th {\n",
       "        text-align: right;\n",
       "    }\n",
       "</style>\n",
       "<table border=\"1\" class=\"dataframe\">\n",
       "  <thead>\n",
       "    <tr style=\"text-align: right;\">\n",
       "      <th></th>\n",
       "      <th>STD</th>\n",
       "      <th>R</th>\n",
       "      <th>R2</th>\n",
       "    </tr>\n",
       "  </thead>\n",
       "  <tbody>\n",
       "    <tr>\n",
       "      <th>VAR</th>\n",
       "      <td>13.081706</td>\n",
       "      <td>0.946102</td>\n",
       "      <td>0.669517</td>\n",
       "    </tr>\n",
       "    <tr>\n",
       "      <th>PRED</th>\n",
       "      <td>6.911686</td>\n",
       "      <td>0.925434</td>\n",
       "      <td>0.796820</td>\n",
       "    </tr>\n",
       "  </tbody>\n",
       "</table>\n",
       "</div>"
      ],
      "text/plain": [
       "            STD         R        R2\n",
       "VAR   13.081706  0.946102  0.669517\n",
       "PRED   6.911686  0.925434  0.796820"
      ]
     },
     "execution_count": 18,
     "metadata": {},
     "output_type": "execute_result"
    }
   ],
   "source": [
    "# var values\n",
    "var_std = std(var_test.loc[:,'delay'].values, fix_test.loc[:,'delay'].values)\n",
    "var_r = np.corrcoef(var_test.loc[:,'delay'].values, fix_test.loc[:,'delay'].values)\n",
    "var_r2 = r2_score(var_test.loc[:,'delay'].values, fix_test.loc[:,'delay'].values)\n",
    "\n",
    "# prediction values\n",
    "pred_std = std(gb_y_estimate, fix_test.loc[:,'delay'].values)\n",
    "pred_r = np.corrcoef(gb_y_estimate, fix_test.loc[:,'delay'].values)\n",
    "pred_r2 = r2_score(fix_test.loc[:,'delay'].values, gb_y_estimate)\n",
    "\n",
    "data = {'STD':[var_std, pred_std], 'R': [var_r[0,1], pred_r[0,1]], 'R2': [var_r2, pred_r2]}\n",
    "tree_df = pd.DataFrame(data, index=['VAR', 'PRED'])\n",
    "tree_df"
   ]
  },
  {
   "cell_type": "markdown",
   "metadata": {},
   "source": [
    "## Искусственные нейроные сети"
   ]
  },
  {
   "cell_type": "code",
   "execution_count": 19,
   "metadata": {},
   "outputs": [],
   "source": [
    "import tensorflow as tf\n",
    "from tensorflow import keras\n",
    "from tensorflow import keras\n",
    "from tensorflow.keras import layers"
   ]
  },
  {
   "cell_type": "markdown",
   "metadata": {},
   "source": [
    "**Нормализация входных тренировочных и тестовых данных**\n",
    "\n",
    "Для лучшей сходимости данных необходимо привести данные к одному диапазону."
   ]
  },
  {
   "cell_type": "code",
   "execution_count": 20,
   "metadata": {},
   "outputs": [],
   "source": [
    "def normalize(table, stat):\n",
    "    \"\"\"Prepare data for ANN\"\"\"\n",
    "    return (table - stat.loc['mean',:].transpose())/ stat.loc['std',:].transpose()"
   ]
  },
  {
   "cell_type": "markdown",
   "metadata": {},
   "source": [
    "***Тренирочные данные:***"
   ]
  },
  {
   "cell_type": "code",
   "execution_count": 21,
   "metadata": {},
   "outputs": [],
   "source": [
    "fix_normalize = normalize(fix.loc[:,'RHOS': 'PKTSIZE'], fix.loc[:,'RHOS': 'PKTSIZE'].describe())\n",
    "x_train = fix_normalize.loc[:,'RHOS': 'PKTSIZE'].values\n",
    "y_train = fix.loc[:,'delay'].values"
   ]
  },
  {
   "cell_type": "markdown",
   "metadata": {},
   "source": [
    "***Тестовые данные:***"
   ]
  },
  {
   "cell_type": "code",
   "execution_count": 22,
   "metadata": {},
   "outputs": [],
   "source": [
    "fix_test_normalize = normalize(fix_test.loc[:,'RHOS': 'PKTSIZE'], fix.loc[:,'RHOS': 'PKTSIZE'].describe())\n",
    "x_test = fix_test_normalize.loc[:,'RHOS': 'PKTSIZE'].values\n",
    "y_test = fix_test.loc[:,'delay'].values"
   ]
  },
  {
   "cell_type": "markdown",
   "metadata": {},
   "source": [
    "Построим **модель сети**\n",
    "\n",
    "Нейронная сеть будет иметь один скрытый слой с сигмоидальной функцией активации. В качестве метода оптимизации был выбран алгоритм **Адама**."
   ]
  },
  {
   "cell_type": "code",
   "execution_count": 29,
   "metadata": {},
   "outputs": [],
   "source": [
    "def build_model():\n",
    "    model = keras.Sequential([\n",
    "        # Input Layer\n",
    "        layers.Dense(25, activation='relu', use_bias=True, input_shape=[len(fix_test_normalize.loc[:,'RHOS': 'PKTSIZE'].keys())]),\n",
    "        # Hidden Layer\n",
    "        layers.Dense(25, activation='sigmoid', use_bias=True,),\n",
    "        # Output layer\n",
    "        layers.Dense(1)])\n",
    "\n",
    "    optimizer = tf.keras.optimizers.Adam(0.001)\n",
    "\n",
    "    model.compile(loss='mse',\n",
    "                optimizer=optimizer,\n",
    "                metrics=['mae', 'mse'])\n",
    "    return model"
   ]
  },
  {
   "cell_type": "code",
   "execution_count": 24,
   "metadata": {},
   "outputs": [],
   "source": [
    "model = build_model()"
   ]
  },
  {
   "cell_type": "code",
   "execution_count": 25,
   "metadata": {},
   "outputs": [],
   "source": [
    "early_stop = keras.callbacks.EarlyStopping(monitor='val_loss', patience=10)\n",
    "\n",
    "class PrintDot(keras.callbacks.Callback):\n",
    "    def on_epoch_end(self, epoch, logs):\n",
    "        if epoch % 100 == 0: print('')\n",
    "        print('.', end='')\n",
    "EPOCHS = 1000\n",
    "keras.callbacks.EarlyStopping(monitor='val_loss', patience=10)\n",
    "history = model.fit(x_train, y_train, epochs=EPOCHS, \n",
    "                    validation_split = 0.2, verbose=0, \n",
    "                    callbacks=[keras.callbacks.EarlyStopping(monitor='val_loss', patience=10)])"
   ]
  },
  {
   "cell_type": "code",
   "execution_count": 26,
   "metadata": {},
   "outputs": [],
   "source": [
    "ann_y_estimate = model.predict(x_test).flatten()\n"
   ]
  },
  {
   "cell_type": "code",
   "execution_count": 27,
   "metadata": {},
   "outputs": [
    {
     "data": {
      "image/png": "[encoded data removed]",
      "text/plain": [
       "<Figure size 432x288 with 1 Axes>"
      ]
     },
     "metadata": {
      "needs_background": "light"
     },
     "output_type": "display_data"
    }
   ],
   "source": [
    "plt.figure()\n",
    "plt.plot(fix_test.loc[:,'RHOS'].values, ann_y_estimate, '--or', label='prediction')\n",
    "plt.plot(fix_test.loc[:,'RHOS'].values,fix_test.loc[:,'delay'].values,'-ob', label='fix')\n",
    "plt.plot(var_test.loc[:,'RHOS'].values, var_test.loc[:,'delay'].values,'--og', label='var')\n",
    "\n",
    "plt.xlabel(r'$\\rho$')\n",
    "plt.ylabel('Delay')\n",
    "plt.title('Artificial Neural Network')\n",
    "plt.legend()\n",
    "plt.grid()"
   ]
  },
  {
   "cell_type": "code",
   "execution_count": 28,
   "metadata": {},
   "outputs": [
    {
     "data": {
      "text/html": [
       "<div>\n",
       "<style scoped>\n",
       "    .dataframe tbody tr th:only-of-type {\n",
       "        vertical-align: middle;\n",
       "    }\n",
       "\n",
       "    .dataframe tbody tr th {\n",
       "        vertical-align: top;\n",
       "    }\n",
       "\n",
       "    .dataframe thead th {\n",
       "        text-align: right;\n",
       "    }\n",
       "</style>\n",
       "<table border=\"1\" class=\"dataframe\">\n",
       "  <thead>\n",
       "    <tr style=\"text-align: right;\">\n",
       "      <th></th>\n",
       "      <th>STD</th>\n",
       "      <th>R</th>\n",
       "      <th>R2</th>\n",
       "    </tr>\n",
       "  </thead>\n",
       "  <tbody>\n",
       "    <tr>\n",
       "      <th>VAR</th>\n",
       "      <td>13.081706</td>\n",
       "      <td>0.946102</td>\n",
       "      <td>0.669517</td>\n",
       "    </tr>\n",
       "    <tr>\n",
       "      <th>PRED</th>\n",
       "      <td>2.693152</td>\n",
       "      <td>0.990882</td>\n",
       "      <td>0.969151</td>\n",
       "    </tr>\n",
       "  </tbody>\n",
       "</table>\n",
       "</div>"
      ],
      "text/plain": [
       "            STD         R        R2\n",
       "VAR   13.081706  0.946102  0.669517\n",
       "PRED   2.693152  0.990882  0.969151"
      ]
     },
     "execution_count": 28,
     "metadata": {},
     "output_type": "execute_result"
    }
   ],
   "source": [
    "# var values\n",
    "var_std = std(var_test.loc[:,'delay'].values, fix_test.loc[:,'delay'].values)\n",
    "var_r = np.corrcoef(var_test.loc[:,'delay'].values, fix_test.loc[:,'delay'].values)\n",
    "var_r2 = r2_score(var_test.loc[:,'delay'].values, fix_test.loc[:,'delay'].values)\n",
    "\n",
    "# prediction values\n",
    "pred_std = std(ann_y_estimate, fix_test.loc[:,'delay'].values)\n",
    "pred_r = np.corrcoef(ann_y_estimate, fix_test.loc[:,'delay'].values)\n",
    "pred_r2 = r2_score(fix_test.loc[:,'delay'].values, ann_y_estimate)\n",
    "\n",
    "data = {'STD':[var_std, pred_std], 'R': [var_r[0,1], pred_r[0,1]], 'R2': [var_r2, pred_r2]}\n",
    "ann_df = pd.DataFrame(data, index=['VAR', 'PRED'])\n",
    "ann_df"
   ]
  },
  {
   "cell_type": "code",
   "execution_count": null,
   "metadata": {},
   "outputs": [],
   "source": []
  }
 ],
 "metadata": {
  "gist": {
   "data": {
    "description": "regression_analysis.ipynb",
    "public": true
   },
   "id": ""
  },
  "kernelspec": {
   "display_name": "Python 3",
   "language": "python",
   "name": "python3"
  },
  "language_info": {
   "codemirror_mode": {
    "name": "ipython",
    "version": 3
   },
   "file_extension": ".py",
   "mimetype": "text/x-python",
   "name": "python",
   "nbconvert_exporter": "python",
   "pygments_lexer": "ipython3",
   "version": "3.7.5"
  },
  "latex_envs": {
   "LaTeX_envs_menu_present": true,
   "autoclose": false,
   "autocomplete": true,
   "bibliofile": "biblio.bib",
   "cite_by": "apalike",
   "current_citInitial": 1,
   "eqLabelWithNumbers": true,
   "eqNumInitial": 1,
   "hotkeys": {
    "equation": "Ctrl-E",
    "itemize": "Ctrl-I"
   },
   "labels_anchors": false,
   "latex_user_defs": false,
   "report_style_numbering": false,
   "user_envs_cfg": false
  }
 },
 "nbformat": 4,
 "nbformat_minor": 2
}
